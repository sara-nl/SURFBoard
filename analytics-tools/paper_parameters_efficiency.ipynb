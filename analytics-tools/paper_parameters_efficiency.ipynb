{
 "cells": [
  {
   "cell_type": "markdown",
   "metadata": {},
   "source": [
    "# Effect of parameters on Scaling Efficiency\n",
    "\n",
    "## Methodology\n",
    "\n",
    "Using [Taguchi methods](https://eng.libretexts.org/Bookshelves/Industrial_and_Systems_Engineering/Book%3A_Chemical_Process_Dynamics_and_Controls_(Under_Construction)/14%3A_Design_of_Experiments/14.01%3A_Design_of_Experiments_via_Taguchi_Methods_-_Orthogonal_Arrays)"
   ]
  },
  {
   "cell_type": "code",
   "execution_count": 1,
   "metadata": {},
   "outputs": [],
   "source": [
    "import pandas as pd\n",
    "import numpy as np\n",
    "import itertools\n",
    "import matplotlib.pyplot as plt\n",
    "import matplotlib"
   ]
  },
  {
   "cell_type": "code",
   "execution_count": 2,
   "metadata": {},
   "outputs": [],
   "source": [
    "system = 'cartesius'\n",
    "df_interval = pd.read_parquet(f'data/mpi/{system}/{system}_interval.gzip')"
   ]
  },
  {
   "cell_type": "code",
   "execution_count": 3,
   "metadata": {},
   "outputs": [],
   "source": [
    "# select configurations\n",
    "\n",
    "def configurations_cartesius():\n",
    "    '''\n",
    "    Return a generator of all the configurations. Each configuration is a list of strings.\n",
    "    '''\n",
    "    network_backend = ['ib']\n",
    "    profile_level = ['tau_exec']\n",
    "    workers = [2, 8]\n",
    "    neural_network = ['resnet50']\n",
    "    data_loader = ['dali-gpu', 'dali-cpu-to-gpu']\n",
    "    batch_size_per_gpu = [32, 64]\n",
    "    grad_precision = ['fp16', 'fp32']\n",
    "    compute_precision = ['fp32']\n",
    "    \n",
    "    def to_str(l):\n",
    "        return [str(elem) for elem in l]\n",
    "\n",
    "    confs = [\n",
    "            network_backend,\n",
    "            profile_level,\n",
    "            to_str(workers),\n",
    "            neural_network,\n",
    "            data_loader,\n",
    "            to_str(batch_size_per_gpu),\n",
    "            grad_precision,\n",
    "            compute_precision\n",
    "            ]\n",
    "    \n",
    "    return itertools.product(*confs)"
   ]
  },
  {
   "cell_type": "code",
   "execution_count": 4,
   "metadata": {},
   "outputs": [],
   "source": [
    "# select configurations\n",
    "\n",
    "def configurations_lisa():\n",
    "    '''\n",
    "    Return a generator of all the configurations. Each configuration is a list of strings.\n",
    "    '''\n",
    "    network_backend = ['eth']\n",
    "    profile_level = ['tau_exec']\n",
    "    workers = [2, 4]\n",
    "    neural_network = ['resnet50']\n",
    "    data_loader = ['dali-gpu', 'dali-cpu-to-gpu']\n",
    "    batch_size_per_gpu = [32, 64]\n",
    "    grad_precision = ['fp16', 'fp32']\n",
    "    compute_precision = ['fp32']\n",
    "    \n",
    "    def to_str(l):\n",
    "        return [str(elem) for elem in l]\n",
    "\n",
    "    confs = [\n",
    "            network_backend,\n",
    "            profile_level,\n",
    "            to_str(workers),\n",
    "            neural_network,\n",
    "            data_loader,\n",
    "            to_str(batch_size_per_gpu),\n",
    "            grad_precision,\n",
    "            compute_precision\n",
    "            ]\n",
    "    \n",
    "    return itertools.product(*confs)"
   ]
  },
  {
   "cell_type": "code",
   "execution_count": 5,
   "metadata": {},
   "outputs": [],
   "source": [
    "def median_duration_epoch(df, node, gpus_per_node, batch_size, init_time):\n",
    "    '''\n",
    "    Return the median duration of 1 epoch for the 10 runs of the experiment\n",
    "    '''\n",
    "    durations_epoch = []\n",
    "                \n",
    "    total_img_processed = node * int(gpus_per_node) * int(batch_size) * 50\n",
    "    for run in range(10):\n",
    "\n",
    "        duration = df[\n",
    "            (df['gpus_per_node'] == int(gpus_per_node)) & \n",
    "            (df['nodes'] == node) & \n",
    "            (df['run'] == run)\n",
    "        ]['inc_time']\n",
    "\n",
    "        duration = np.max(duration) * 1E-6 # convert to seconds\n",
    "        duration -= init_time # substract initialization time\n",
    "        duration_epoch = duration * 1E6 / total_img_processed # 1 million images per epoch\n",
    "\n",
    "        durations_epoch.append(duration_epoch)\n",
    "\n",
    "    return np.array(durations_epoch)"
   ]
  },
  {
   "cell_type": "code",
   "execution_count": 6,
   "metadata": {},
   "outputs": [],
   "source": [
    "def scaling_efficiencies(d):\n",
    "    '''\n",
    "    Return 2 lists:\n",
    "    - all the numbers of GPUs used\n",
    "    - the scaling efficiency for the corresponding number of GPUs\n",
    "    '''\n",
    "    efficiencies = {k:[] for k in d.keys()}\n",
    "    for gpu, t in d.items():\n",
    "        efficiencies[gpu] = d[16] / (gpu * t/16)*100\n",
    "    return efficiencies"
   ]
  },
  {
   "cell_type": "code",
   "execution_count": 7,
   "metadata": {},
   "outputs": [],
   "source": [
    "nodes = [8, 16, 32, 48] if system == 'cartesius' else [1, 4, 8]\n",
    "data = []\n",
    "\n",
    "confs = configurations_cartesius() if system == 'cartesius' else configurations_lisa()\n",
    "for i, conf in enumerate(confs):\n",
    "    network_backend, profile_level, workers, nn, data_loader, batch_size, grad, compute = conf\n",
    "\n",
    "    mask_config = \\\n",
    "        (df_interval['network_backend'] == network_backend) & \\\n",
    "        (df_interval['profile_level'] == profile_level) & \\\n",
    "        (df_interval['workers'] == int(workers)) & \\\n",
    "        (df_interval['neural_network'] == nn) & \\\n",
    "        (df_interval['data_loader'] == data_loader) & \\\n",
    "        (df_interval['batch_size_per_gpu'] == int(batch_size)) & \\\n",
    "        (df_interval['grad_precision'] == grad) & \\\n",
    "        (df_interval['compute_precision'] == compute) & \\\n",
    "        (df_interval['function'] == '.tau application')\n",
    "    \n",
    "    df_config = df_interval[mask_config]\n",
    "    \n",
    "    d = {} # map number of GPUs to the duration of 1 epoch\n",
    "\n",
    "    for node in nodes:\n",
    "        gpus_per_node = 2 if system == 'cartesius' else 4 # experiments always use 2 GPUs per node\n",
    "        d[node * gpus_per_node] = median_duration_epoch(df_config, node, gpus_per_node, batch_size, 0)\n",
    "    \n",
    "    efficiencies = scaling_efficiencies(d)\n",
    "    for gpu, eff in efficiencies.items():\n",
    "        data.append([gpu, network_backend, profile_level, workers, nn, data_loader, batch_size, grad, compute, eff])\n",
    "    \n"
   ]
  },
  {
   "cell_type": "code",
   "execution_count": 8,
   "metadata": {},
   "outputs": [],
   "source": [
    "df = pd.DataFrame(data, columns=['gpu', 'backend', 'profile', 'workers', 'nn', 'dataloader', 'batch_size', 'grad', 'compute', 'efficiency'])"
   ]
  },
  {
   "cell_type": "code",
   "execution_count": 9,
   "metadata": {},
   "outputs": [
    {
     "name": "stderr",
     "output_type": "stream",
     "text": [
      "/home/mat/Documents/courses/research/VU-RPML/env/lib/python3.8/site-packages/pandas/core/frame.py:2963: SettingWithCopyWarning: \n",
      "A value is trying to be set on a copy of a slice from a DataFrame.\n",
      "Try using .loc[row_indexer,col_indexer] = value instead\n",
      "\n",
      "See the caveats in the documentation: https://pandas.pydata.org/pandas-docs/stable/user_guide/indexing.html#returning-a-view-versus-a-copy\n",
      "  self[k1] = value[k2]\n"
     ]
    }
   ],
   "source": [
    "df2 = df[['gpu', 'workers', 'dataloader', 'batch_size', 'grad', 'efficiency']]\n",
    "df2[[f'T{n}' for n in range(1, 11)]] = pd.DataFrame(df2.efficiency.tolist())\n",
    "df2 = df2[['gpu', 'workers', 'dataloader', 'batch_size', 'grad']+[f'T{n}' for n in range(1, 11)]]"
   ]
  },
  {
   "cell_type": "code",
   "execution_count": 10,
   "metadata": {},
   "outputs": [],
   "source": [
    "df2['SN'] = -10*np.log10(sum(1/(df2[f'T{n}']**2)/10 for n in range(1, 11)))"
   ]
  },
  {
   "cell_type": "code",
   "execution_count": 11,
   "metadata": {},
   "outputs": [],
   "source": [
    "d_gpu = df2.groupby('gpu')['SN'].mean().values.ptp()\n",
    "d_workers = df2.groupby('workers')['SN'].mean().values.ptp()\n",
    "d_dataloader = df2.groupby('dataloader')['SN'].mean().values.ptp()\n",
    "d_batch = df2.groupby('batch_size')['SN'].mean().values.ptp()\n",
    "d_grad = df2.groupby('grad')['SN'].mean().values.ptp()"
   ]
  },
  {
   "cell_type": "code",
   "execution_count": 12,
   "metadata": {},
   "outputs": [
    {
     "data": {
      "text/html": [
       "<div>\n",
       "<style scoped>\n",
       "    .dataframe tbody tr th:only-of-type {\n",
       "        vertical-align: middle;\n",
       "    }\n",
       "\n",
       "    .dataframe tbody tr th {\n",
       "        vertical-align: top;\n",
       "    }\n",
       "\n",
       "    .dataframe thead th {\n",
       "        text-align: right;\n",
       "    }\n",
       "</style>\n",
       "<table border=\"1\" class=\"dataframe\">\n",
       "  <thead>\n",
       "    <tr style=\"text-align: right;\">\n",
       "      <th></th>\n",
       "      <th>gpu</th>\n",
       "      <th>workers</th>\n",
       "      <th>dataloader</th>\n",
       "      <th>batch size</th>\n",
       "      <th>grad</th>\n",
       "    </tr>\n",
       "  </thead>\n",
       "  <tbody>\n",
       "    <tr>\n",
       "      <th>$\\Delta$ SN</th>\n",
       "      <td>0.39976</td>\n",
       "      <td>0.034262</td>\n",
       "      <td>0.02145</td>\n",
       "      <td>0.065573</td>\n",
       "      <td>0.066013</td>\n",
       "    </tr>\n",
       "  </tbody>\n",
       "</table>\n",
       "</div>"
      ],
      "text/plain": [
       "                 gpu   workers  dataloader  batch size      grad\n",
       "$\\Delta$ SN  0.39976  0.034262     0.02145    0.065573  0.066013"
      ]
     },
     "execution_count": 12,
     "metadata": {},
     "output_type": "execute_result"
    }
   ],
   "source": [
    "df_params = pd.DataFrame([[d_gpu, d_workers, d_dataloader, d_batch, d_grad]], \n",
    "             columns=['gpu', 'workers', 'dataloader', 'batch size', 'grad'], \n",
    "             index=['$\\Delta$ SN'])\n",
    "df_params"
   ]
  },
  {
   "cell_type": "code",
   "execution_count": 13,
   "metadata": {},
   "outputs": [
    {
     "data": {
      "image/png": "[encoded data removed]",
      "text/plain": [
       "<Figure size 864x576 with 1 Axes>"
      ]
     },
     "metadata": {
      "needs_background": "light"
     },
     "output_type": "display_data"
    }
   ],
   "source": [
    "h = df_params.iloc[0].values\n",
    "names = df_params.columns.values\n",
    "h = h / np.max(h)\n",
    "names[0] = 'number\\nof gpu'\n",
    "names[1] = 'number of\\nworkers'\n",
    "names[4] = 'gradient\\nprecision'\n",
    "names[3] = 'batch\\nsize'\n",
    "i = np.argsort(h)[::]\n",
    "\n",
    "x = np.arange(1, len(h)+1)\n",
    "fig, ax = plt.subplots(1, figsize=(12, 8))\n",
    "ax.barh(x, height=0.5, color=['g', 'b', 'y', 'g', 'g'], width=h[i], edgecolor='black', linewidth=3, alpha=0.5)\n",
    "ax.tick_params(axis='both', labelsize=30)\n",
    "ax.set_xlabel('$\\Delta$Signal to Noise ratio', fontsize=30)\n",
    "ax.set_yticks(x)\n",
    "ax.set_yticklabels(names[i], fontsize=30)\n",
    "\n",
    "plt.tight_layout()\n",
    "# plt.savefig(f\"images/{system}_parameters.png\")"
   ]
  }
 ],
 "metadata": {
  "kernelspec": {
   "display_name": "Python 3",
   "language": "python",
   "name": "python3"
  },
  "language_info": {
   "codemirror_mode": {
    "name": "ipython",
    "version": 3
   },
   "file_extension": ".py",
   "mimetype": "text/x-python",
   "name": "python",
   "nbconvert_exporter": "python",
   "pygments_lexer": "ipython3",
   "version": "3.8.5"
  }
 },
 "nbformat": 4,
 "nbformat_minor": 4
}
